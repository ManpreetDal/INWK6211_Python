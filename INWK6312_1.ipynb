{
  "nbformat": 4,
  "nbformat_minor": 0,
  "metadata": {
    "colab": {
      "provenance": [],
      "authorship_tag": "ABX9TyNNeUs98cYkREzgUBcRzRjv",
      "include_colab_link": true
    },
    "kernelspec": {
      "name": "python3",
      "display_name": "Python 3"
    },
    "language_info": {
      "name": "python"
    }
  },
  "cells": [
    {
      "cell_type": "markdown",
      "metadata": {
        "id": "view-in-github",
        "colab_type": "text"
      },
      "source": [
        "<a href=\"https://colab.research.google.com/github/ManpreetDal/INWK6211_Python/blob/main/INWK6312_1.ipynb\" target=\"_parent\"><img src=\"https://colab.research.google.com/assets/colab-badge.svg\" alt=\"Open In Colab\"/></a>"
      ]
    },
    {
      "cell_type": "code",
      "execution_count": null,
      "metadata": {
        "id": "FW_v6kEOks9D",
        "colab": {
          "base_uri": "https://localhost:8080/"
        },
        "outputId": "81e118bb-4853-4ab5-b203-e5bd9b513e0d"
      },
      "outputs": [
        {
          "output_type": "stream",
          "name": "stdout",
          "text": [
            "The first sentence. The second sentence. The last sentence.\n"
          ]
        }
      ],
      "source": [
        "def sentences():\n",
        "  print('The first sentence', end='. ')\n",
        "  print('The second sentence', end='. ')\n",
        "  print('The last sentence.')\n",
        "\n",
        "sentences()"
      ]
    },
    {
      "cell_type": "code",
      "source": [
        "def planets():\n",
        "  print('Mercury', 'Venus', 'Earth', sep=',', end=', ')\n",
        "  print('Mars', 'Jupiter', 'Saturn', sep=',', end=', ')\n",
        "  print('Uranus', 'Neptune', sep=',', end=', ')\n",
        "\n",
        "planets()"
      ],
      "metadata": {
        "colab": {
          "base_uri": "https://localhost:8080/"
        },
        "id": "nMuiXBKz9PFS",
        "outputId": "f41ee948-fc1c-4e37-e502-0c495537eef4"
      },
      "execution_count": null,
      "outputs": [
        {
          "output_type": "stream",
          "name": "stdout",
          "text": [
            "Mercury,Venus,Earth, Mars,Jupiter,Saturn, Uranus,Neptune, "
          ]
        }
      ]
    },
    {
      "cell_type": "code",
      "source": [
        "def bullets():\n",
        "  print('My favourite Pythons:', end='\\\\n *')\n",
        "  print('Idle', end='\\\\n *')\n",
        "  print('Cleese ', end='\\\\n *')\n",
        "  print('Sumatran short-tailed')\n",
        "\n",
        "bullets()"
      ],
      "metadata": {
        "colab": {
          "base_uri": "https://localhost:8080/"
        },
        "id": "qtPAUn2m9cbK",
        "outputId": "e45e8342-301c-4c40-e10f-1f13fe8f6cfa"
      },
      "execution_count": null,
      "outputs": [
        {
          "output_type": "stream",
          "name": "stdout",
          "text": [
            "My favourite Pythons:\\n *Idle\\n *Cleese \\n *Sumatran short-tailed\n"
          ]
        }
      ]
    }
  ]
}